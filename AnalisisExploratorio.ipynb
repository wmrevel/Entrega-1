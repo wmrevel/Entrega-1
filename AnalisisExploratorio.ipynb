{
  "nbformat": 4,
  "nbformat_minor": 0,
  "metadata": {
    "colab": {
      "provenance": []
    },
    "kernelspec": {
      "name": "python3",
      "display_name": "Python 3"
    },
    "language_info": {
      "name": "python"
    }
  },
  "cells": [
    {
      "cell_type": "markdown",
      "source": [
        "LIBRERIAS A UTILIZAR"
      ],
      "metadata": {
        "id": "4cukakzkp3Do"
      }
    },
    {
      "cell_type": "code",
      "execution_count": 205,
      "metadata": {
        "id": "GKFa396kHncQ"
      },
      "outputs": [],
      "source": [
        "#data\n",
        "import pandas as pd\n",
        "import numpy as np\n",
        "\n",
        "# Gráficos\n",
        "import matplotlib.pyplot as plt\n",
        "import seaborn as sns\n",
        "\n",
        "# Set a few plotting defaults\n",
        "%matplotlib inline\n",
        "plt.style.use('fivethirtyeight')\n",
        "plt.rcParams['font.size'] = 18\n",
        "plt.rcParams['patch.edgecolor'] = 'k'\n",
        "\n",
        "#sklearn\n",
        "from sklearn.model_selection import train_test_split\n",
        "from sklearn.naive_bayes import GaussianNB\n",
        "from sklearn.metrics import accuracy_score\n",
        "from sklearn.metrics import f1_score"
      ]
    },
    {
      "cell_type": "markdown",
      "source": [
        "#Cargar datasets en pandas dataframes"
      ],
      "metadata": {
        "id": "2vusF_XWp9mS"
      }
    },
    {
      "cell_type": "code",
      "source": [
        "#Carga de dataframe\n",
        "train = pd.read_csv(\"/content/drive/MyDrive/COSTARICA/train.csv\")\n",
        "test = pd.read_csv(\"/content/drive/MyDrive/COSTARICA/test.csv\")"
      ],
      "metadata": {
        "id": "Oisops_MH6bd"
      },
      "execution_count": 54,
      "outputs": []
    },
    {
      "cell_type": "code",
      "source": [
        "print(\"dimensión del dataframe (Filas, Cols)\", train.shape)\n",
        "train.info()\n"
      ],
      "metadata": {
        "colab": {
          "base_uri": "https://localhost:8080/"
        },
        "id": "RlSWGRITqXei",
        "outputId": "acb73397-72f2-440c-8e78-2f4ac28a02eb"
      },
      "execution_count": 55,
      "outputs": [
        {
          "output_type": "stream",
          "name": "stdout",
          "text": [
            "dimensión del dataframe (Filas, Cols) (9557, 143)\n",
            "<class 'pandas.core.frame.DataFrame'>\n",
            "RangeIndex: 9557 entries, 0 to 9556\n",
            "Columns: 143 entries, Id to Target\n",
            "dtypes: float64(8), int64(130), object(5)\n",
            "memory usage: 10.4+ MB\n"
          ]
        }
      ]
    },
    {
      "cell_type": "markdown",
      "source": [
        "El dataset cumple con los requerimientos de un mínimo de filas, con 9557, 143 columnas, 5 columnas categóricas, 8 de tipo numérica y 130 de tipo entera, que incluye variables binarias, que toman valores de (0, 1)"
      ],
      "metadata": {
        "id": "UOcpY389LNm2"
      }
    },
    {
      "cell_type": "markdown",
      "source": [
        "#VARIABLES CON NANS"
      ],
      "metadata": {
        "id": "KYx60rbVCwI2"
      }
    },
    {
      "cell_type": "code",
      "source": [
        "#Copia del dataframe\n",
        "train_df = train.copy()"
      ],
      "metadata": {
        "id": "LzaTIuaUC5dB"
      },
      "execution_count": 216,
      "outputs": []
    },
    {
      "cell_type": "code",
      "source": [
        "#CONTEO DE NANS POR VARIABLE\n",
        "train_df.isna().sum()[train_df.isna().sum() >0]\n",
        "#df.isna().sum()[df.isna().sum() >0]"
      ],
      "metadata": {
        "colab": {
          "base_uri": "https://localhost:8080/"
        },
        "id": "76U5QfZKCuDt",
        "outputId": "8111d85f-4e0a-4644-b350-a60df97325c7"
      },
      "execution_count": 117,
      "outputs": [
        {
          "output_type": "execute_result",
          "data": {
            "text/plain": [
              "v2a1         6860\n",
              "v18q1        7342\n",
              "rez_esc      7928\n",
              "meaneduc        5\n",
              "SQBmeaned       5\n",
              "dtype: int64"
            ]
          },
          "metadata": {},
          "execution_count": 117
        }
      ]
    },
    {
      "cell_type": "markdown",
      "source": [
        "Observamos que 'v2a1' (Valor de renta mensual) tiene gran número de Nans, que pueden ocurrir porque la casa sea propia y pagada o la persona sea dependiente. En este caso decidimos reemplazar los NaNs por ceros.\n",
        "'v18q1' (Tiene una tablet) tiene gran número de NaNs, por lo que también decidimos reemplazarlos por ceros.\n",
        "'rez_esc' (años de atraso en la escolaridad) vamos a reemplazar los NaNs por 0.\n"
      ],
      "metadata": {
        "id": "Rpbv2ZF0SFh4"
      }
    },
    {
      "cell_type": "code",
      "source": [
        "print(train_df[['v2a1','v18q1','rez_esc']])\n",
        "train_df['v2a1'].fillna(0, inplace=True)\n",
        "train_df['v18q1'].fillna(0, inplace=True)\n",
        "train_df['rez_esc'].fillna(0, inplace=True)\n",
        "print(train_df[['v2a1','v18q1','rez_esc']])"
      ],
      "metadata": {
        "colab": {
          "base_uri": "https://localhost:8080/"
        },
        "id": "iYnadc-TRu3e",
        "outputId": "974237a7-3f3b-412a-8dfd-ea0dffdba175"
      },
      "execution_count": 131,
      "outputs": [
        {
          "output_type": "stream",
          "name": "stdout",
          "text": [
            "          v2a1  v18q1  rez_esc\n",
            "0     190000.0    NaN      NaN\n",
            "1     135000.0    1.0      NaN\n",
            "2          NaN    NaN      NaN\n",
            "3     180000.0    1.0      1.0\n",
            "4     180000.0    1.0      NaN\n",
            "...        ...    ...      ...\n",
            "9552   80000.0    NaN      NaN\n",
            "9553   80000.0    NaN      NaN\n",
            "9554   80000.0    NaN      NaN\n",
            "9555   80000.0    NaN      NaN\n",
            "9556   80000.0    NaN      NaN\n",
            "\n",
            "[9557 rows x 3 columns]\n",
            "          v2a1  v18q1  rez_esc\n",
            "0     190000.0    0.0      0.0\n",
            "1     135000.0    1.0      0.0\n",
            "2          0.0    0.0      0.0\n",
            "3     180000.0    1.0      1.0\n",
            "4     180000.0    1.0      0.0\n",
            "...        ...    ...      ...\n",
            "9552   80000.0    0.0      0.0\n",
            "9553   80000.0    0.0      0.0\n",
            "9554   80000.0    0.0      0.0\n",
            "9555   80000.0    0.0      0.0\n",
            "9556   80000.0    0.0      0.0\n",
            "\n",
            "[9557 rows x 3 columns]\n"
          ]
        }
      ]
    },
    {
      "cell_type": "markdown",
      "source": [
        "#VARIABLES CATEGÓRICAS\n",
        "\n",
        "El dataset contiene 5 variables categóricas, la variable ID, no aporta al modelo, ya que solo es la identificación de la persona. Entonces vamos a eliminarlo del dataframe."
      ],
      "metadata": {
        "id": "95ZIqRSTrmAT"
      }
    },
    {
      "cell_type": "code",
      "source": [
        "train_df.select_dtypes(include=['object'])"
      ],
      "metadata": {
        "colab": {
          "base_uri": "https://localhost:8080/",
          "height": 419
        },
        "id": "qM3Gk6FOrNb8",
        "outputId": "686cf762-5134-46fc-c2fe-57eeb70f795a"
      },
      "execution_count": 217,
      "outputs": [
        {
          "output_type": "execute_result",
          "data": {
            "text/plain": [
              "                Id    idhogar dependency edjefe edjefa\n",
              "0     ID_279628684  21eb7fcc1         no     10     no\n",
              "1     ID_f29eb3ddd  0e5d7a658          8     12     no\n",
              "2     ID_68de51c94  2c7317ea8          8     no     11\n",
              "3     ID_d671db89c  2b58d945f        yes     11     no\n",
              "4     ID_d56d6f5f5  2b58d945f        yes     11     no\n",
              "...            ...        ...        ...    ...    ...\n",
              "9552  ID_d45ae367d  d6c086aa3        .25      9     no\n",
              "9553  ID_c94744e07  d6c086aa3        .25      9     no\n",
              "9554  ID_85fc658f8  d6c086aa3        .25      9     no\n",
              "9555  ID_ced540c61  d6c086aa3        .25      9     no\n",
              "9556  ID_a38c64491  d6c086aa3        .25      9     no\n",
              "\n",
              "[9557 rows x 5 columns]"
            ],
            "text/html": [
              "\n",
              "  <div id=\"df-86da0216-500f-4896-b599-8fd7ebcd42e8\">\n",
              "    <div class=\"colab-df-container\">\n",
              "      <div>\n",
              "<style scoped>\n",
              "    .dataframe tbody tr th:only-of-type {\n",
              "        vertical-align: middle;\n",
              "    }\n",
              "\n",
              "    .dataframe tbody tr th {\n",
              "        vertical-align: top;\n",
              "    }\n",
              "\n",
              "    .dataframe thead th {\n",
              "        text-align: right;\n",
              "    }\n",
              "</style>\n",
              "<table border=\"1\" class=\"dataframe\">\n",
              "  <thead>\n",
              "    <tr style=\"text-align: right;\">\n",
              "      <th></th>\n",
              "      <th>Id</th>\n",
              "      <th>idhogar</th>\n",
              "      <th>dependency</th>\n",
              "      <th>edjefe</th>\n",
              "      <th>edjefa</th>\n",
              "    </tr>\n",
              "  </thead>\n",
              "  <tbody>\n",
              "    <tr>\n",
              "      <th>0</th>\n",
              "      <td>ID_279628684</td>\n",
              "      <td>21eb7fcc1</td>\n",
              "      <td>no</td>\n",
              "      <td>10</td>\n",
              "      <td>no</td>\n",
              "    </tr>\n",
              "    <tr>\n",
              "      <th>1</th>\n",
              "      <td>ID_f29eb3ddd</td>\n",
              "      <td>0e5d7a658</td>\n",
              "      <td>8</td>\n",
              "      <td>12</td>\n",
              "      <td>no</td>\n",
              "    </tr>\n",
              "    <tr>\n",
              "      <th>2</th>\n",
              "      <td>ID_68de51c94</td>\n",
              "      <td>2c7317ea8</td>\n",
              "      <td>8</td>\n",
              "      <td>no</td>\n",
              "      <td>11</td>\n",
              "    </tr>\n",
              "    <tr>\n",
              "      <th>3</th>\n",
              "      <td>ID_d671db89c</td>\n",
              "      <td>2b58d945f</td>\n",
              "      <td>yes</td>\n",
              "      <td>11</td>\n",
              "      <td>no</td>\n",
              "    </tr>\n",
              "    <tr>\n",
              "      <th>4</th>\n",
              "      <td>ID_d56d6f5f5</td>\n",
              "      <td>2b58d945f</td>\n",
              "      <td>yes</td>\n",
              "      <td>11</td>\n",
              "      <td>no</td>\n",
              "    </tr>\n",
              "    <tr>\n",
              "      <th>...</th>\n",
              "      <td>...</td>\n",
              "      <td>...</td>\n",
              "      <td>...</td>\n",
              "      <td>...</td>\n",
              "      <td>...</td>\n",
              "    </tr>\n",
              "    <tr>\n",
              "      <th>9552</th>\n",
              "      <td>ID_d45ae367d</td>\n",
              "      <td>d6c086aa3</td>\n",
              "      <td>.25</td>\n",
              "      <td>9</td>\n",
              "      <td>no</td>\n",
              "    </tr>\n",
              "    <tr>\n",
              "      <th>9553</th>\n",
              "      <td>ID_c94744e07</td>\n",
              "      <td>d6c086aa3</td>\n",
              "      <td>.25</td>\n",
              "      <td>9</td>\n",
              "      <td>no</td>\n",
              "    </tr>\n",
              "    <tr>\n",
              "      <th>9554</th>\n",
              "      <td>ID_85fc658f8</td>\n",
              "      <td>d6c086aa3</td>\n",
              "      <td>.25</td>\n",
              "      <td>9</td>\n",
              "      <td>no</td>\n",
              "    </tr>\n",
              "    <tr>\n",
              "      <th>9555</th>\n",
              "      <td>ID_ced540c61</td>\n",
              "      <td>d6c086aa3</td>\n",
              "      <td>.25</td>\n",
              "      <td>9</td>\n",
              "      <td>no</td>\n",
              "    </tr>\n",
              "    <tr>\n",
              "      <th>9556</th>\n",
              "      <td>ID_a38c64491</td>\n",
              "      <td>d6c086aa3</td>\n",
              "      <td>.25</td>\n",
              "      <td>9</td>\n",
              "      <td>no</td>\n",
              "    </tr>\n",
              "  </tbody>\n",
              "</table>\n",
              "<p>9557 rows × 5 columns</p>\n",
              "</div>\n",
              "      <button class=\"colab-df-convert\" onclick=\"convertToInteractive('df-86da0216-500f-4896-b599-8fd7ebcd42e8')\"\n",
              "              title=\"Convert this dataframe to an interactive table.\"\n",
              "              style=\"display:none;\">\n",
              "        \n",
              "  <svg xmlns=\"http://www.w3.org/2000/svg\" height=\"24px\"viewBox=\"0 0 24 24\"\n",
              "       width=\"24px\">\n",
              "    <path d=\"M0 0h24v24H0V0z\" fill=\"none\"/>\n",
              "    <path d=\"M18.56 5.44l.94 2.06.94-2.06 2.06-.94-2.06-.94-.94-2.06-.94 2.06-2.06.94zm-11 1L8.5 8.5l.94-2.06 2.06-.94-2.06-.94L8.5 2.5l-.94 2.06-2.06.94zm10 10l.94 2.06.94-2.06 2.06-.94-2.06-.94-.94-2.06-.94 2.06-2.06.94z\"/><path d=\"M17.41 7.96l-1.37-1.37c-.4-.4-.92-.59-1.43-.59-.52 0-1.04.2-1.43.59L10.3 9.45l-7.72 7.72c-.78.78-.78 2.05 0 2.83L4 21.41c.39.39.9.59 1.41.59.51 0 1.02-.2 1.41-.59l7.78-7.78 2.81-2.81c.8-.78.8-2.07 0-2.86zM5.41 20L4 18.59l7.72-7.72 1.47 1.35L5.41 20z\"/>\n",
              "  </svg>\n",
              "      </button>\n",
              "      \n",
              "  <style>\n",
              "    .colab-df-container {\n",
              "      display:flex;\n",
              "      flex-wrap:wrap;\n",
              "      gap: 12px;\n",
              "    }\n",
              "\n",
              "    .colab-df-convert {\n",
              "      background-color: #E8F0FE;\n",
              "      border: none;\n",
              "      border-radius: 50%;\n",
              "      cursor: pointer;\n",
              "      display: none;\n",
              "      fill: #1967D2;\n",
              "      height: 32px;\n",
              "      padding: 0 0 0 0;\n",
              "      width: 32px;\n",
              "    }\n",
              "\n",
              "    .colab-df-convert:hover {\n",
              "      background-color: #E2EBFA;\n",
              "      box-shadow: 0px 1px 2px rgba(60, 64, 67, 0.3), 0px 1px 3px 1px rgba(60, 64, 67, 0.15);\n",
              "      fill: #174EA6;\n",
              "    }\n",
              "\n",
              "    [theme=dark] .colab-df-convert {\n",
              "      background-color: #3B4455;\n",
              "      fill: #D2E3FC;\n",
              "    }\n",
              "\n",
              "    [theme=dark] .colab-df-convert:hover {\n",
              "      background-color: #434B5C;\n",
              "      box-shadow: 0px 1px 3px 1px rgba(0, 0, 0, 0.15);\n",
              "      filter: drop-shadow(0px 1px 2px rgba(0, 0, 0, 0.3));\n",
              "      fill: #FFFFFF;\n",
              "    }\n",
              "  </style>\n",
              "\n",
              "      <script>\n",
              "        const buttonEl =\n",
              "          document.querySelector('#df-86da0216-500f-4896-b599-8fd7ebcd42e8 button.colab-df-convert');\n",
              "        buttonEl.style.display =\n",
              "          google.colab.kernel.accessAllowed ? 'block' : 'none';\n",
              "\n",
              "        async function convertToInteractive(key) {\n",
              "          const element = document.querySelector('#df-86da0216-500f-4896-b599-8fd7ebcd42e8');\n",
              "          const dataTable =\n",
              "            await google.colab.kernel.invokeFunction('convertToInteractive',\n",
              "                                                     [key], {});\n",
              "          if (!dataTable) return;\n",
              "\n",
              "          const docLinkHtml = 'Like what you see? Visit the ' +\n",
              "            '<a target=\"_blank\" href=https://colab.research.google.com/notebooks/data_table.ipynb>data table notebook</a>'\n",
              "            + ' to learn more about interactive tables.';\n",
              "          element.innerHTML = '';\n",
              "          dataTable['output_type'] = 'display_data';\n",
              "          await google.colab.output.renderOutput(dataTable, element);\n",
              "          const docLink = document.createElement('div');\n",
              "          docLink.innerHTML = docLinkHtml;\n",
              "          element.appendChild(docLink);\n",
              "        }\n",
              "      </script>\n",
              "    </div>\n",
              "  </div>\n",
              "  "
            ]
          },
          "metadata": {},
          "execution_count": 217
        }
      ]
    },
    {
      "cell_type": "code",
      "source": [
        "#COLUMNAS A ELIMINAR\n",
        "columns_del = ['Id','idhogar']"
      ],
      "metadata": {
        "id": "EEN0HRQDhpBl"
      },
      "execution_count": 118,
      "outputs": []
    },
    {
      "cell_type": "markdown",
      "source": [
        "Función para eliminar columnas"
      ],
      "metadata": {
        "id": "RJqSjwPPiavR"
      }
    },
    {
      "cell_type": "code",
      "source": [
        "def drop_cols(df):\n",
        "    df.drop(columns_del, axis=1, inplace=True)"
      ],
      "metadata": {
        "id": "999MVRmgiZUA"
      },
      "execution_count": 119,
      "outputs": []
    },
    {
      "cell_type": "code",
      "source": [
        "drop_cols(train_df)"
      ],
      "metadata": {
        "id": "ZQn9EwXDinon"
      },
      "execution_count": 120,
      "outputs": []
    },
    {
      "cell_type": "code",
      "source": [
        "def yes_no(df):\n",
        "  df['edjefe'] = df['edjefe'].replace(['yes'], 1)\n",
        "  df['edjefe'] = df['edjefe'].replace(['no'], 0)\n",
        "  df['edjefa'] = df['edjefa'].replace(['yes'], 1)\n",
        "  df['edjefa'] = df['edjefa'].replace(['no'], 0)\n",
        "  df['dependency'] = df['dependency'].replace(['no'], 0)\n",
        "  df['dependency'] = df['dependency'].replace(['yes'], 1)\n"
      ],
      "metadata": {
        "id": "I8SNgtUClhAh"
      },
      "execution_count": 121,
      "outputs": []
    },
    {
      "cell_type": "code",
      "source": [
        "yes_no(train_df)\n",
        "train_df.select_dtypes(include=['object'])"
      ],
      "metadata": {
        "colab": {
          "base_uri": "https://localhost:8080/",
          "height": 419
        },
        "id": "hdlxbKzX5Ali",
        "outputId": "b13f9110-6bdb-4239-fe30-1331864a58a5"
      },
      "execution_count": 122,
      "outputs": [
        {
          "output_type": "execute_result",
          "data": {
            "text/plain": [
              "     dependency edjefe edjefa\n",
              "0             0     10      0\n",
              "1             8     12      0\n",
              "2             8      0     11\n",
              "3             1     11      0\n",
              "4             1     11      0\n",
              "...         ...    ...    ...\n",
              "9552        .25      9      0\n",
              "9553        .25      9      0\n",
              "9554        .25      9      0\n",
              "9555        .25      9      0\n",
              "9556        .25      9      0\n",
              "\n",
              "[9557 rows x 3 columns]"
            ],
            "text/html": [
              "\n",
              "  <div id=\"df-bb6384c4-9428-45aa-b618-5a2c07d50336\">\n",
              "    <div class=\"colab-df-container\">\n",
              "      <div>\n",
              "<style scoped>\n",
              "    .dataframe tbody tr th:only-of-type {\n",
              "        vertical-align: middle;\n",
              "    }\n",
              "\n",
              "    .dataframe tbody tr th {\n",
              "        vertical-align: top;\n",
              "    }\n",
              "\n",
              "    .dataframe thead th {\n",
              "        text-align: right;\n",
              "    }\n",
              "</style>\n",
              "<table border=\"1\" class=\"dataframe\">\n",
              "  <thead>\n",
              "    <tr style=\"text-align: right;\">\n",
              "      <th></th>\n",
              "      <th>dependency</th>\n",
              "      <th>edjefe</th>\n",
              "      <th>edjefa</th>\n",
              "    </tr>\n",
              "  </thead>\n",
              "  <tbody>\n",
              "    <tr>\n",
              "      <th>0</th>\n",
              "      <td>0</td>\n",
              "      <td>10</td>\n",
              "      <td>0</td>\n",
              "    </tr>\n",
              "    <tr>\n",
              "      <th>1</th>\n",
              "      <td>8</td>\n",
              "      <td>12</td>\n",
              "      <td>0</td>\n",
              "    </tr>\n",
              "    <tr>\n",
              "      <th>2</th>\n",
              "      <td>8</td>\n",
              "      <td>0</td>\n",
              "      <td>11</td>\n",
              "    </tr>\n",
              "    <tr>\n",
              "      <th>3</th>\n",
              "      <td>1</td>\n",
              "      <td>11</td>\n",
              "      <td>0</td>\n",
              "    </tr>\n",
              "    <tr>\n",
              "      <th>4</th>\n",
              "      <td>1</td>\n",
              "      <td>11</td>\n",
              "      <td>0</td>\n",
              "    </tr>\n",
              "    <tr>\n",
              "      <th>...</th>\n",
              "      <td>...</td>\n",
              "      <td>...</td>\n",
              "      <td>...</td>\n",
              "    </tr>\n",
              "    <tr>\n",
              "      <th>9552</th>\n",
              "      <td>.25</td>\n",
              "      <td>9</td>\n",
              "      <td>0</td>\n",
              "    </tr>\n",
              "    <tr>\n",
              "      <th>9553</th>\n",
              "      <td>.25</td>\n",
              "      <td>9</td>\n",
              "      <td>0</td>\n",
              "    </tr>\n",
              "    <tr>\n",
              "      <th>9554</th>\n",
              "      <td>.25</td>\n",
              "      <td>9</td>\n",
              "      <td>0</td>\n",
              "    </tr>\n",
              "    <tr>\n",
              "      <th>9555</th>\n",
              "      <td>.25</td>\n",
              "      <td>9</td>\n",
              "      <td>0</td>\n",
              "    </tr>\n",
              "    <tr>\n",
              "      <th>9556</th>\n",
              "      <td>.25</td>\n",
              "      <td>9</td>\n",
              "      <td>0</td>\n",
              "    </tr>\n",
              "  </tbody>\n",
              "</table>\n",
              "<p>9557 rows × 3 columns</p>\n",
              "</div>\n",
              "      <button class=\"colab-df-convert\" onclick=\"convertToInteractive('df-bb6384c4-9428-45aa-b618-5a2c07d50336')\"\n",
              "              title=\"Convert this dataframe to an interactive table.\"\n",
              "              style=\"display:none;\">\n",
              "        \n",
              "  <svg xmlns=\"http://www.w3.org/2000/svg\" height=\"24px\"viewBox=\"0 0 24 24\"\n",
              "       width=\"24px\">\n",
              "    <path d=\"M0 0h24v24H0V0z\" fill=\"none\"/>\n",
              "    <path d=\"M18.56 5.44l.94 2.06.94-2.06 2.06-.94-2.06-.94-.94-2.06-.94 2.06-2.06.94zm-11 1L8.5 8.5l.94-2.06 2.06-.94-2.06-.94L8.5 2.5l-.94 2.06-2.06.94zm10 10l.94 2.06.94-2.06 2.06-.94-2.06-.94-.94-2.06-.94 2.06-2.06.94z\"/><path d=\"M17.41 7.96l-1.37-1.37c-.4-.4-.92-.59-1.43-.59-.52 0-1.04.2-1.43.59L10.3 9.45l-7.72 7.72c-.78.78-.78 2.05 0 2.83L4 21.41c.39.39.9.59 1.41.59.51 0 1.02-.2 1.41-.59l7.78-7.78 2.81-2.81c.8-.78.8-2.07 0-2.86zM5.41 20L4 18.59l7.72-7.72 1.47 1.35L5.41 20z\"/>\n",
              "  </svg>\n",
              "      </button>\n",
              "      \n",
              "  <style>\n",
              "    .colab-df-container {\n",
              "      display:flex;\n",
              "      flex-wrap:wrap;\n",
              "      gap: 12px;\n",
              "    }\n",
              "\n",
              "    .colab-df-convert {\n",
              "      background-color: #E8F0FE;\n",
              "      border: none;\n",
              "      border-radius: 50%;\n",
              "      cursor: pointer;\n",
              "      display: none;\n",
              "      fill: #1967D2;\n",
              "      height: 32px;\n",
              "      padding: 0 0 0 0;\n",
              "      width: 32px;\n",
              "    }\n",
              "\n",
              "    .colab-df-convert:hover {\n",
              "      background-color: #E2EBFA;\n",
              "      box-shadow: 0px 1px 2px rgba(60, 64, 67, 0.3), 0px 1px 3px 1px rgba(60, 64, 67, 0.15);\n",
              "      fill: #174EA6;\n",
              "    }\n",
              "\n",
              "    [theme=dark] .colab-df-convert {\n",
              "      background-color: #3B4455;\n",
              "      fill: #D2E3FC;\n",
              "    }\n",
              "\n",
              "    [theme=dark] .colab-df-convert:hover {\n",
              "      background-color: #434B5C;\n",
              "      box-shadow: 0px 1px 3px 1px rgba(0, 0, 0, 0.15);\n",
              "      filter: drop-shadow(0px 1px 2px rgba(0, 0, 0, 0.3));\n",
              "      fill: #FFFFFF;\n",
              "    }\n",
              "  </style>\n",
              "\n",
              "      <script>\n",
              "        const buttonEl =\n",
              "          document.querySelector('#df-bb6384c4-9428-45aa-b618-5a2c07d50336 button.colab-df-convert');\n",
              "        buttonEl.style.display =\n",
              "          google.colab.kernel.accessAllowed ? 'block' : 'none';\n",
              "\n",
              "        async function convertToInteractive(key) {\n",
              "          const element = document.querySelector('#df-bb6384c4-9428-45aa-b618-5a2c07d50336');\n",
              "          const dataTable =\n",
              "            await google.colab.kernel.invokeFunction('convertToInteractive',\n",
              "                                                     [key], {});\n",
              "          if (!dataTable) return;\n",
              "\n",
              "          const docLinkHtml = 'Like what you see? Visit the ' +\n",
              "            '<a target=\"_blank\" href=https://colab.research.google.com/notebooks/data_table.ipynb>data table notebook</a>'\n",
              "            + ' to learn more about interactive tables.';\n",
              "          element.innerHTML = '';\n",
              "          dataTable['output_type'] = 'display_data';\n",
              "          await google.colab.output.renderOutput(dataTable, element);\n",
              "          const docLink = document.createElement('div');\n",
              "          docLink.innerHTML = docLinkHtml;\n",
              "          element.appendChild(docLink);\n",
              "        }\n",
              "      </script>\n",
              "    </div>\n",
              "  </div>\n",
              "  "
            ]
          },
          "metadata": {},
          "execution_count": 122
        }
      ]
    },
    {
      "cell_type": "markdown",
      "source": [
        "Vamos a analizar el balanceo del dataset, realizando el conteo de las ocurrencias de la variable 'target'"
      ],
      "metadata": {
        "id": "Fcy7JkuU7KrN"
      }
    },
    {
      "cell_type": "code",
      "source": [
        "balance = print(train[\"Target\"].value_counts()/(train[\"Target\"].value_counts().sum()))\n"
      ],
      "metadata": {
        "colab": {
          "base_uri": "https://localhost:8080/"
        },
        "id": "dN_1pwQXMSuf",
        "outputId": "41f02e6b-12f6-4e06-a6cd-d3735447db51"
      },
      "execution_count": 64,
      "outputs": [
        {
          "output_type": "stream",
          "name": "stdout",
          "text": [
            "4    0.627394\n",
            "2    0.167103\n",
            "3    0.126504\n",
            "1    0.079000\n",
            "Name: Target, dtype: float64\n"
          ]
        }
      ]
    },
    {
      "cell_type": "markdown",
      "source": [
        "Vamos a graficar la variable 'target' para observar la distribución de los datos en cada categoría."
      ],
      "metadata": {
        "id": "s5BEwsUQ74Tg"
      }
    },
    {
      "cell_type": "code",
      "source": [
        "train['Target'].value_counts().plot.bar(width = 0.1)\n",
        "plt.xlabel(\"Valores de Target\")\n",
        "plt.ylabel(\"Personas encuestadas\")\n",
        "plt.title(\"Distribución de los valores de Target\")\n",
        "plt.show()"
      ],
      "metadata": {
        "colab": {
          "base_uri": "https://localhost:8080/",
          "height": 518
        },
        "id": "F-mKR4JS73kw",
        "outputId": "843d5b27-f9ea-4997-a7b7-427a7b10dae3"
      },
      "execution_count": 123,
      "outputs": [
        {
          "output_type": "display_data",
          "data": {
            "text/plain": [
              "<Figure size 640x480 with 1 Axes>"
            ],
            "image/png": "[encoded data removed]"
          },
          "metadata": {}
        }
      ]
    },
    {
      "cell_type": "code",
      "source": [
        "#Columnas que tienen valores nulos\n",
        "train_df.columns[train_df.isnull().sum()>0]"
      ],
      "metadata": {
        "colab": {
          "base_uri": "https://localhost:8080/"
        },
        "id": "yDg4KcKKATxj",
        "outputId": "d5181794-b2fe-49ab-9312-ac87ca5e5db6"
      },
      "execution_count": 134,
      "outputs": [
        {
          "output_type": "execute_result",
          "data": {
            "text/plain": [
              "Index(['meaneduc', 'SQBmeaned'], dtype='object')"
            ]
          },
          "metadata": {},
          "execution_count": 134
        }
      ]
    },
    {
      "cell_type": "markdown",
      "source": [
        "Vamos a reemplazar los datos NaN de la columna 'v2a1' de renta mensual, reemplazandolos por cero (0)"
      ],
      "metadata": {
        "id": "iVJoPGKc_z9Q"
      }
    },
    {
      "cell_type": "code",
      "source": [
        "train_df['SQBmeaned']"
      ],
      "metadata": {
        "colab": {
          "base_uri": "https://localhost:8080/"
        },
        "id": "Nz4uoqlynVcq",
        "outputId": "b2865fb9-6bfc-4113-ea9a-917cb01a1d68"
      },
      "execution_count": 127,
      "outputs": [
        {
          "output_type": "execute_result",
          "data": {
            "text/plain": [
              "0       100.0000\n",
              "1       144.0000\n",
              "2       121.0000\n",
              "3       121.0000\n",
              "4       121.0000\n",
              "          ...   \n",
              "9552     68.0625\n",
              "9553     68.0625\n",
              "9554     68.0625\n",
              "9555     68.0625\n",
              "9556     68.0625\n",
              "Name: SQBmeaned, Length: 9557, dtype: float64"
            ]
          },
          "metadata": {},
          "execution_count": 127
        }
      ]
    },
    {
      "cell_type": "code",
      "source": [
        "#Reemplazar NaNs en 'meaneduc' por la mediana de la variable\n",
        "train_df['meaneduc'].fillna(train_df['meaneduc'].median(), inplace=True)\n",
        "train_df['SQBmeaned'].fillna(train_df['SQBmeaned'].median(), inplace=True)"
      ],
      "metadata": {
        "id": "83cybvRVj37k"
      },
      "execution_count": 135,
      "outputs": []
    },
    {
      "cell_type": "markdown",
      "source": [],
      "metadata": {
        "id": "bAV10jgyydFQ"
      }
    },
    {
      "cell_type": "code",
      "source": [
        "null_counts=train_df.select_dtypes('float64').isnull().sum()\n",
        "null_counts[null_counts > 0].sum()"
      ],
      "metadata": {
        "colab": {
          "base_uri": "https://localhost:8080/"
        },
        "id": "6wtPH0ZUNn97",
        "outputId": "5e2edd37-98b3-4cfd-b5b3-92ffd7a0138c"
      },
      "execution_count": 136,
      "outputs": [
        {
          "output_type": "execute_result",
          "data": {
            "text/plain": [
              "0"
            ]
          },
          "metadata": {},
          "execution_count": 136
        }
      ]
    },
    {
      "cell_type": "code",
      "source": [
        "train_df[['v2a1','v18q1','rez_esc','meaneduc','SQBmeaned']]"
      ],
      "metadata": {
        "colab": {
          "base_uri": "https://localhost:8080/",
          "height": 419
        },
        "id": "nhEmPID2hlZ5",
        "outputId": "b276b841-3d7c-416a-c708-55b2912abf3d"
      },
      "execution_count": 137,
      "outputs": [
        {
          "output_type": "execute_result",
          "data": {
            "text/plain": [
              "          v2a1  v18q1  rez_esc  meaneduc  SQBmeaned\n",
              "0     190000.0    0.0      0.0     10.00   100.0000\n",
              "1     135000.0    1.0      0.0     12.00   144.0000\n",
              "2          0.0    0.0      0.0     11.00   121.0000\n",
              "3     180000.0    1.0      1.0     11.00   121.0000\n",
              "4     180000.0    1.0      0.0     11.00   121.0000\n",
              "...        ...    ...      ...       ...        ...\n",
              "9552   80000.0    0.0      0.0      8.25    68.0625\n",
              "9553   80000.0    0.0      0.0      8.25    68.0625\n",
              "9554   80000.0    0.0      0.0      8.25    68.0625\n",
              "9555   80000.0    0.0      0.0      8.25    68.0625\n",
              "9556   80000.0    0.0      0.0      8.25    68.0625\n",
              "\n",
              "[9557 rows x 5 columns]"
            ],
            "text/html": [
              "\n",
              "  <div id=\"df-8bc190bc-540b-413e-8b19-33ae7f71e59f\">\n",
              "    <div class=\"colab-df-container\">\n",
              "      <div>\n",
              "<style scoped>\n",
              "    .dataframe tbody tr th:only-of-type {\n",
              "        vertical-align: middle;\n",
              "    }\n",
              "\n",
              "    .dataframe tbody tr th {\n",
              "        vertical-align: top;\n",
              "    }\n",
              "\n",
              "    .dataframe thead th {\n",
              "        text-align: right;\n",
              "    }\n",
              "</style>\n",
              "<table border=\"1\" class=\"dataframe\">\n",
              "  <thead>\n",
              "    <tr style=\"text-align: right;\">\n",
              "      <th></th>\n",
              "      <th>v2a1</th>\n",
              "      <th>v18q1</th>\n",
              "      <th>rez_esc</th>\n",
              "      <th>meaneduc</th>\n",
              "      <th>SQBmeaned</th>\n",
              "    </tr>\n",
              "  </thead>\n",
              "  <tbody>\n",
              "    <tr>\n",
              "      <th>0</th>\n",
              "      <td>190000.0</td>\n",
              "      <td>0.0</td>\n",
              "      <td>0.0</td>\n",
              "      <td>10.00</td>\n",
              "      <td>100.0000</td>\n",
              "    </tr>\n",
              "    <tr>\n",
              "      <th>1</th>\n",
              "      <td>135000.0</td>\n",
              "      <td>1.0</td>\n",
              "      <td>0.0</td>\n",
              "      <td>12.00</td>\n",
              "      <td>144.0000</td>\n",
              "    </tr>\n",
              "    <tr>\n",
              "      <th>2</th>\n",
              "      <td>0.0</td>\n",
              "      <td>0.0</td>\n",
              "      <td>0.0</td>\n",
              "      <td>11.00</td>\n",
              "      <td>121.0000</td>\n",
              "    </tr>\n",
              "    <tr>\n",
              "      <th>3</th>\n",
              "      <td>180000.0</td>\n",
              "      <td>1.0</td>\n",
              "      <td>1.0</td>\n",
              "      <td>11.00</td>\n",
              "      <td>121.0000</td>\n",
              "    </tr>\n",
              "    <tr>\n",
              "      <th>4</th>\n",
              "      <td>180000.0</td>\n",
              "      <td>1.0</td>\n",
              "      <td>0.0</td>\n",
              "      <td>11.00</td>\n",
              "      <td>121.0000</td>\n",
              "    </tr>\n",
              "    <tr>\n",
              "      <th>...</th>\n",
              "      <td>...</td>\n",
              "      <td>...</td>\n",
              "      <td>...</td>\n",
              "      <td>...</td>\n",
              "      <td>...</td>\n",
              "    </tr>\n",
              "    <tr>\n",
              "      <th>9552</th>\n",
              "      <td>80000.0</td>\n",
              "      <td>0.0</td>\n",
              "      <td>0.0</td>\n",
              "      <td>8.25</td>\n",
              "      <td>68.0625</td>\n",
              "    </tr>\n",
              "    <tr>\n",
              "      <th>9553</th>\n",
              "      <td>80000.0</td>\n",
              "      <td>0.0</td>\n",
              "      <td>0.0</td>\n",
              "      <td>8.25</td>\n",
              "      <td>68.0625</td>\n",
              "    </tr>\n",
              "    <tr>\n",
              "      <th>9554</th>\n",
              "      <td>80000.0</td>\n",
              "      <td>0.0</td>\n",
              "      <td>0.0</td>\n",
              "      <td>8.25</td>\n",
              "      <td>68.0625</td>\n",
              "    </tr>\n",
              "    <tr>\n",
              "      <th>9555</th>\n",
              "      <td>80000.0</td>\n",
              "      <td>0.0</td>\n",
              "      <td>0.0</td>\n",
              "      <td>8.25</td>\n",
              "      <td>68.0625</td>\n",
              "    </tr>\n",
              "    <tr>\n",
              "      <th>9556</th>\n",
              "      <td>80000.0</td>\n",
              "      <td>0.0</td>\n",
              "      <td>0.0</td>\n",
              "      <td>8.25</td>\n",
              "      <td>68.0625</td>\n",
              "    </tr>\n",
              "  </tbody>\n",
              "</table>\n",
              "<p>9557 rows × 5 columns</p>\n",
              "</div>\n",
              "      <button class=\"colab-df-convert\" onclick=\"convertToInteractive('df-8bc190bc-540b-413e-8b19-33ae7f71e59f')\"\n",
              "              title=\"Convert this dataframe to an interactive table.\"\n",
              "              style=\"display:none;\">\n",
              "        \n",
              "  <svg xmlns=\"http://www.w3.org/2000/svg\" height=\"24px\"viewBox=\"0 0 24 24\"\n",
              "       width=\"24px\">\n",
              "    <path d=\"M0 0h24v24H0V0z\" fill=\"none\"/>\n",
              "    <path d=\"M18.56 5.44l.94 2.06.94-2.06 2.06-.94-2.06-.94-.94-2.06-.94 2.06-2.06.94zm-11 1L8.5 8.5l.94-2.06 2.06-.94-2.06-.94L8.5 2.5l-.94 2.06-2.06.94zm10 10l.94 2.06.94-2.06 2.06-.94-2.06-.94-.94-2.06-.94 2.06-2.06.94z\"/><path d=\"M17.41 7.96l-1.37-1.37c-.4-.4-.92-.59-1.43-.59-.52 0-1.04.2-1.43.59L10.3 9.45l-7.72 7.72c-.78.78-.78 2.05 0 2.83L4 21.41c.39.39.9.59 1.41.59.51 0 1.02-.2 1.41-.59l7.78-7.78 2.81-2.81c.8-.78.8-2.07 0-2.86zM5.41 20L4 18.59l7.72-7.72 1.47 1.35L5.41 20z\"/>\n",
              "  </svg>\n",
              "      </button>\n",
              "      \n",
              "  <style>\n",
              "    .colab-df-container {\n",
              "      display:flex;\n",
              "      flex-wrap:wrap;\n",
              "      gap: 12px;\n",
              "    }\n",
              "\n",
              "    .colab-df-convert {\n",
              "      background-color: #E8F0FE;\n",
              "      border: none;\n",
              "      border-radius: 50%;\n",
              "      cursor: pointer;\n",
              "      display: none;\n",
              "      fill: #1967D2;\n",
              "      height: 32px;\n",
              "      padding: 0 0 0 0;\n",
              "      width: 32px;\n",
              "    }\n",
              "\n",
              "    .colab-df-convert:hover {\n",
              "      background-color: #E2EBFA;\n",
              "      box-shadow: 0px 1px 2px rgba(60, 64, 67, 0.3), 0px 1px 3px 1px rgba(60, 64, 67, 0.15);\n",
              "      fill: #174EA6;\n",
              "    }\n",
              "\n",
              "    [theme=dark] .colab-df-convert {\n",
              "      background-color: #3B4455;\n",
              "      fill: #D2E3FC;\n",
              "    }\n",
              "\n",
              "    [theme=dark] .colab-df-convert:hover {\n",
              "      background-color: #434B5C;\n",
              "      box-shadow: 0px 1px 3px 1px rgba(0, 0, 0, 0.15);\n",
              "      filter: drop-shadow(0px 1px 2px rgba(0, 0, 0, 0.3));\n",
              "      fill: #FFFFFF;\n",
              "    }\n",
              "  </style>\n",
              "\n",
              "      <script>\n",
              "        const buttonEl =\n",
              "          document.querySelector('#df-8bc190bc-540b-413e-8b19-33ae7f71e59f button.colab-df-convert');\n",
              "        buttonEl.style.display =\n",
              "          google.colab.kernel.accessAllowed ? 'block' : 'none';\n",
              "\n",
              "        async function convertToInteractive(key) {\n",
              "          const element = document.querySelector('#df-8bc190bc-540b-413e-8b19-33ae7f71e59f');\n",
              "          const dataTable =\n",
              "            await google.colab.kernel.invokeFunction('convertToInteractive',\n",
              "                                                     [key], {});\n",
              "          if (!dataTable) return;\n",
              "\n",
              "          const docLinkHtml = 'Like what you see? Visit the ' +\n",
              "            '<a target=\"_blank\" href=https://colab.research.google.com/notebooks/data_table.ipynb>data table notebook</a>'\n",
              "            + ' to learn more about interactive tables.';\n",
              "          element.innerHTML = '';\n",
              "          dataTable['output_type'] = 'display_data';\n",
              "          await google.colab.output.renderOutput(dataTable, element);\n",
              "          const docLink = document.createElement('div');\n",
              "          docLink.innerHTML = docLinkHtml;\n",
              "          element.appendChild(docLink);\n",
              "        }\n",
              "      </script>\n",
              "    </div>\n",
              "  </div>\n",
              "  "
            ]
          },
          "metadata": {},
          "execution_count": 137
        }
      ]
    },
    {
      "cell_type": "code",
      "source": [
        "train_df.isna().sum()[train_df.isna().sum() >0]\n",
        "#df.isna().sum()[df.isna().sum() >0]"
      ],
      "metadata": {
        "colab": {
          "base_uri": "https://localhost:8080/"
        },
        "id": "EdAwW38_iQP3",
        "outputId": "07415da8-14db-4129-ca04-70b8412bd205"
      },
      "execution_count": 138,
      "outputs": [
        {
          "output_type": "execute_result",
          "data": {
            "text/plain": [
              "Series([], dtype: int64)"
            ]
          },
          "metadata": {},
          "execution_count": 138
        }
      ]
    },
    {
      "cell_type": "code",
      "source": [
        "print(train_df)"
      ],
      "metadata": {
        "colab": {
          "base_uri": "https://localhost:8080/"
        },
        "id": "pNNBP171i2K5",
        "outputId": "30fd1cf0-960e-45a1-9c8d-3e0ade0283ab"
      },
      "execution_count": 139,
      "outputs": [
        {
          "output_type": "stream",
          "name": "stdout",
          "text": [
            "          v2a1  hacdor  rooms  hacapo  v14a  refrig  v18q  v18q1  r4h1  r4h2  \\\n",
            "0     190000.0       0      3       0     1       1     0    0.0     0     1   \n",
            "1     135000.0       0      4       0     1       1     1    1.0     0     1   \n",
            "2          0.0       0      8       0     1       1     0    0.0     0     0   \n",
            "3     180000.0       0      5       0     1       1     1    1.0     0     2   \n",
            "4     180000.0       0      5       0     1       1     1    1.0     0     2   \n",
            "...        ...     ...    ...     ...   ...     ...   ...    ...   ...   ...   \n",
            "9552   80000.0       0      6       0     1       1     0    0.0     0     2   \n",
            "9553   80000.0       0      6       0     1       1     0    0.0     0     2   \n",
            "9554   80000.0       0      6       0     1       1     0    0.0     0     2   \n",
            "9555   80000.0       0      6       0     1       1     0    0.0     0     2   \n",
            "9556   80000.0       0      6       0     1       1     0    0.0     0     2   \n",
            "\n",
            "      ...  SQBescolari  SQBage  SQBhogar_total  SQBedjefe  SQBhogar_nin  \\\n",
            "0     ...          100    1849               1        100             0   \n",
            "1     ...          144    4489               1        144             0   \n",
            "2     ...          121    8464               1          0             0   \n",
            "3     ...           81     289              16        121             4   \n",
            "4     ...          121    1369              16        121             4   \n",
            "...   ...          ...     ...             ...        ...           ...   \n",
            "9552  ...           81    2116              25         81             1   \n",
            "9553  ...            0       4              25         81             1   \n",
            "9554  ...           25    2500              25         81             1   \n",
            "9555  ...          121     676              25         81             1   \n",
            "9556  ...           64     441              25         81             1   \n",
            "\n",
            "      SQBovercrowding  SQBdependency  SQBmeaned  agesq  Target  \n",
            "0            1.000000         0.0000   100.0000   1849       4  \n",
            "1            1.000000        64.0000   144.0000   4489       4  \n",
            "2            0.250000        64.0000   121.0000   8464       4  \n",
            "3            1.777778         1.0000   121.0000    289       4  \n",
            "4            1.777778         1.0000   121.0000   1369       4  \n",
            "...               ...            ...        ...    ...     ...  \n",
            "9552         1.562500         0.0625    68.0625   2116       2  \n",
            "9553         1.562500         0.0625    68.0625      4       2  \n",
            "9554         1.562500         0.0625    68.0625   2500       2  \n",
            "9555         1.562500         0.0625    68.0625    676       2  \n",
            "9556         1.562500         0.0625    68.0625    441       2  \n",
            "\n",
            "[9557 rows x 141 columns]\n"
          ]
        }
      ]
    },
    {
      "cell_type": "markdown",
      "source": [
        "'v2a1': \n",
        "'v18q1'\n",
        "'rez_esc'\n",
        "'meaneduc'\n",
        "'SQBmeaned'"
      ],
      "metadata": {
        "id": "4BQK_Y5jYRsM"
      }
    },
    {
      "cell_type": "markdown",
      "source": [
        "Crear la lista con la variable respuesta"
      ],
      "metadata": {
        "id": "zJC9ybuqz9Oh"
      }
    },
    {
      "cell_type": "code",
      "source": [
        "y = train_df['Target']\n",
        "y"
      ],
      "metadata": {
        "colab": {
          "base_uri": "https://localhost:8080/"
        },
        "id": "PTXncHuJrsat",
        "outputId": "ab2d5d27-0072-4573-c4ae-88da680b7685"
      },
      "execution_count": 140,
      "outputs": [
        {
          "output_type": "execute_result",
          "data": {
            "text/plain": [
              "0       4\n",
              "1       4\n",
              "2       4\n",
              "3       4\n",
              "4       4\n",
              "       ..\n",
              "9552    2\n",
              "9553    2\n",
              "9554    2\n",
              "9555    2\n",
              "9556    2\n",
              "Name: Target, Length: 9557, dtype: int64"
            ]
          },
          "metadata": {},
          "execution_count": 140
        }
      ]
    },
    {
      "cell_type": "markdown",
      "source": [
        "Naive Bayes"
      ],
      "metadata": {
        "id": "vvowqOA-sGR1"
      }
    },
    {
      "cell_type": "code",
      "source": [
        "X_train, X_test, y_train, y_test = train_test_split(\n",
        "    train_df, y, test_size=0.30, random_state=150\n",
        ")\n",
        "\n",
        "\n",
        "# CLASSIFICADOR GAUSSIANO\n",
        "model = GaussianNB()\n",
        "\n",
        "# ENTRENAMIENTO DEL MODELO\n",
        "model.fit(X_train, y_train)\n",
        "\n",
        "# PREDICCION DEL MODELO\n",
        "predicted = model.predict(X_test)\n",
        "\n",
        "y_test = y_test.tolist()"
      ],
      "metadata": {
        "id": "KY7vKuGCrly6"
      },
      "execution_count": 197,
      "outputs": []
    },
    {
      "cell_type": "code",
      "source": [
        "\n",
        "\n",
        "\n",
        "\n",
        "#print(\"Predicted Value:\", predicted)"
      ],
      "metadata": {
        "id": "boLgb6HUshZ4"
      },
      "execution_count": 198,
      "outputs": []
    },
    {
      "cell_type": "code",
      "source": [
        "\n"
      ],
      "metadata": {
        "id": "Oiw2SOGpvnSg"
      },
      "execution_count": 188,
      "outputs": []
    },
    {
      "cell_type": "code",
      "source": [],
      "metadata": {
        "id": "usycQWOyv0qw"
      },
      "execution_count": 189,
      "outputs": []
    },
    {
      "cell_type": "code",
      "source": [
        "print(y_test)\n",
        "print(predicted.tolist())"
      ],
      "metadata": {
        "colab": {
          "base_uri": "https://localhost:8080/"
        },
        "id": "UkTgB-WDu_LL",
        "outputId": "6bdce7ec-9e22-49a8-c37b-c00e76db96a8"
      },
      "execution_count": 199,
      "outputs": [
        {
          "output_type": "stream",
          "name": "stdout",
          "text": [
            "[4, 1, 3, 2, 4, 4, 4, 2, 4, 4, 4, 4, 4, 4, 4, 4, 4, 4, 4, 3, 3, 2, 4, 4, 4, 4, 2, 2, 3, 2, 4, 4, 4, 4, 4, 4, 4, 1, 3, 4, 3, 4, 4, 4, 2, 4, 4, 2, 4, 2, 4, 4, 3, 4, 3, 4, 4, 2, 2, 4, 4, 2, 4, 2, 2, 3, 4, 2, 4, 4, 4, 4, 2, 4, 3, 4, 4, 4, 2, 4, 3, 2, 3, 4, 4, 4, 3, 4, 1, 4, 4, 4, 2, 4, 4, 4, 4, 4, 4, 4, 4, 4, 4, 1, 1, 4, 4, 1, 4, 2, 4, 4, 4, 1, 3, 4, 1, 4, 4, 3, 4, 3, 4, 4, 2, 4, 4, 4, 3, 4, 4, 4, 2, 2, 2, 4, 2, 4, 4, 3, 3, 3, 1, 4, 4, 4, 4, 2, 2, 4, 4, 2, 4, 4, 3, 4, 4, 3, 4, 4, 2, 4, 4, 1, 4, 4, 4, 4, 2, 2, 2, 4, 4, 4, 4, 3, 4, 2, 4, 3, 2, 3, 2, 4, 4, 4, 4, 4, 4, 4, 3, 4, 4, 1, 1, 3, 1, 4, 4, 4, 3, 4, 2, 2, 4, 4, 4, 1, 2, 4, 4, 4, 4, 2, 4, 2, 2, 2, 4, 4, 4, 2, 1, 3, 4, 3, 4, 4, 4, 4, 4, 4, 4, 4, 2, 2, 4, 2, 2, 4, 4, 4, 4, 3, 2, 4, 1, 2, 4, 2, 2, 4, 4, 4, 4, 2, 4, 4, 4, 3, 3, 4, 4, 4, 1, 4, 4, 4, 4, 4, 4, 4, 4, 4, 4, 3, 1, 4, 4, 4, 1, 4, 2, 4, 1, 2, 3, 2, 4, 4, 3, 3, 1, 2, 4, 4, 2, 4, 4, 4, 4, 4, 3, 4, 3, 3, 2, 2, 2, 1, 3, 3, 4, 4, 1, 4, 2, 4, 4, 3, 3, 4, 3, 4, 4, 2, 1, 4, 4, 4, 2, 4, 2, 2, 4, 4, 2, 3, 4, 2, 4, 3, 4, 2, 3, 1, 2, 4, 4, 4, 4, 3, 1, 2, 3, 2, 4, 4, 3, 1, 4, 2, 4, 1, 1, 1, 4, 2, 4, 2, 4, 2, 4, 4, 2, 4, 4, 4, 4, 2, 4, 1, 3, 3, 4, 2, 3, 4, 4, 4, 4, 3, 2, 4, 1, 4, 4, 2, 4, 4, 2, 4, 3, 2, 4, 4, 4, 4, 2, 4, 3, 3, 4, 3, 3, 3, 4, 4, 4, 4, 1, 4, 4, 2, 1, 2, 3, 4, 4, 1, 4, 4, 4, 4, 2, 4, 2, 4, 2, 4, 4, 2, 1, 2, 4, 3, 4, 4, 4, 2, 4, 4, 3, 4, 4, 2, 4, 3, 1, 3, 4, 4, 4, 4, 4, 1, 4, 3, 4, 3, 4, 3, 4, 2, 4, 2, 1, 2, 3, 4, 1, 4, 1, 3, 4, 4, 4, 2, 4, 3, 4, 4, 4, 4, 4, 4, 4, 4, 1, 2, 1, 4, 4, 3, 4, 4, 1, 4, 2, 4, 4, 4, 4, 4, 3, 4, 4, 3, 4, 2, 4, 3, 3, 2, 4, 4, 4, 4, 2, 1, 4, 4, 4, 4, 3, 2, 4, 3, 4, 2, 4, 2, 4, 2, 4, 1, 4, 4, 4, 4, 4, 4, 4, 1, 2, 2, 3, 3, 4, 2, 2, 4, 4, 1, 4, 2, 4, 4, 4, 4, 4, 4, 4, 4, 4, 4, 2, 3, 2, 3, 4, 1, 4, 2, 4, 1, 2, 4, 4, 4, 3, 4, 3, 3, 2, 2, 4, 2, 2, 4, 4, 4, 2, 4, 4, 2, 4, 4, 2, 4, 4, 1, 3, 4, 4, 4, 4, 4, 4, 1, 4, 3, 4, 4, 4, 4, 4, 4, 4, 4, 4, 4, 3, 4, 4, 2, 3, 2, 3, 4, 1, 4, 2, 2, 3, 4, 3, 2, 2, 4, 4, 4, 3, 4, 1, 4, 2, 4, 1, 4, 4, 4, 1, 4, 4, 4, 4, 4, 4, 1, 4, 2, 2, 3, 4, 4, 2, 4, 4, 4, 4, 2, 2, 1, 4, 2, 4, 4, 4, 4, 1, 4, 4, 3, 4, 4, 4, 4, 1, 4, 4, 4, 2, 2, 4, 4, 3, 2, 4, 4, 3, 4, 4, 2, 4, 3, 4, 2, 4, 2, 4, 3, 4, 4, 1, 2, 2, 3, 4, 4, 4, 3, 1, 4, 4, 3, 4, 4, 4, 4, 4, 4, 3, 4, 4, 4, 2, 4, 2, 3, 2, 3, 4, 4, 2, 4, 4, 1, 4, 4, 2, 4, 2, 1, 2, 4, 4, 3, 4, 4, 2, 4, 2, 4, 3, 3, 4, 4, 2, 4, 4, 2, 4, 2, 4, 4, 4, 4, 3, 4, 4, 4, 4, 4, 4, 4, 4, 3, 2, 4, 4, 4, 4, 4, 1, 3, 4, 4, 4, 3, 4, 4, 4, 2, 3, 2, 3, 4, 4, 4, 4, 4, 3, 4, 3, 4, 4, 4, 2, 4, 4, 4, 2, 3, 4, 4, 4, 3, 2, 2, 1, 4, 4, 4, 3, 4, 3, 4, 4, 4, 4, 3, 2, 2, 1, 3, 4, 4, 4, 3, 4, 3, 1, 4, 3, 4, 4, 3, 4, 4, 4, 1, 4, 2, 4, 3, 4, 4, 4, 2, 4, 3, 4, 4, 4, 4, 1, 4, 4, 3, 4, 4, 4, 3, 4, 4, 4, 4, 3, 4, 4, 2, 1, 3, 4, 2, 4, 4, 4, 4, 2, 2, 2, 2, 4, 4, 1, 4, 3, 2, 2, 4, 2, 4, 2, 4, 4, 4, 4, 4, 4, 4, 3, 4, 3, 4, 4, 2, 4, 3, 1, 4, 4, 2, 3, 3, 2, 2, 4, 3, 4, 4, 4, 4, 4, 3, 4, 4, 4, 1, 4, 1, 4, 2, 4, 4, 4, 4, 4, 4, 4, 4, 4, 2, 2, 4, 3, 1, 4, 2, 3, 1, 4, 4, 3, 1, 3, 4, 4, 4, 4, 4, 1, 4, 4, 4, 3, 4, 4, 4, 3, 4, 4, 1, 4, 2, 4, 4, 4, 3, 4, 4, 4, 4, 4, 3, 4, 4, 4, 3, 4, 4, 3, 4, 4, 2, 4, 1, 3, 4, 4, 4, 4, 3, 4, 4, 2, 4, 4, 4, 4, 4, 4, 4, 2, 3, 2, 4, 4, 4, 1, 4, 4, 4, 1, 2, 1, 1, 4, 2, 4, 4, 4, 4, 2, 4, 4, 3, 4, 3, 4, 3, 2, 1, 4, 4, 2, 4, 3, 4, 1, 1, 2, 1, 4, 4, 4, 4, 2, 4, 3, 4, 4, 2, 4, 4, 4, 1, 2, 4, 4, 2, 4, 4, 4, 4, 4, 4, 4, 4, 4, 2, 4, 2, 4, 4, 4, 4, 4, 3, 4, 3, 4, 2, 4, 2, 4, 4, 2, 4, 4, 4, 4, 4, 4, 3, 1, 2, 4, 4, 4, 1, 2, 3, 4, 2, 4, 4, 4, 3, 4, 4, 4, 3, 4, 4, 4, 4, 4, 4, 4, 3, 4, 2, 4, 1, 4, 4, 4, 4, 4, 1, 4, 4, 1, 4, 3, 3, 4, 3, 4, 4, 3, 4, 2, 4, 4, 4, 3, 4, 2, 4, 4, 4, 2, 2, 4, 4, 4, 2, 4, 4, 4, 1, 4, 4, 3, 4, 1, 4, 4, 4, 4, 4, 4, 4, 4, 3, 4, 3, 2, 4, 4, 4, 4, 4, 2, 4, 4, 4, 1, 3, 4, 4, 4, 4, 4, 4, 4, 3, 4, 2, 4, 4, 1, 2, 1, 1, 4, 4, 4, 4, 2, 3, 4, 4, 1, 4, 3, 4, 4, 3, 4, 1, 4, 3, 4, 4, 4, 4, 1, 2, 3, 4, 4, 2, 1, 4, 4, 2, 4, 4, 4, 4, 4, 4, 4, 4, 2, 2, 4, 4, 2, 4, 4, 4, 4, 4, 2, 4, 2, 4, 2, 2, 4, 3, 4, 4, 1, 2, 4, 4, 2, 2, 4, 3, 4, 4, 1, 4, 4, 4, 3, 2, 4, 4, 4, 2, 4, 4, 4, 4, 4, 4, 4, 4, 4, 2, 4, 4, 2, 3, 2, 4, 4, 4, 2, 2, 2, 4, 4, 4, 4, 4, 3, 4, 4, 3, 4, 4, 4, 2, 4, 1, 2, 4, 4, 4, 2, 1, 4, 2, 4, 2, 4, 1, 2, 2, 4, 2, 4, 1, 4, 2, 1, 1, 2, 4, 4, 2, 4, 3, 4, 4, 2, 3, 4, 3, 4, 4, 1, 3, 2, 2, 4, 4, 4, 4, 4, 3, 4, 4, 4, 1, 4, 4, 4, 4, 4, 4, 4, 4, 4, 4, 2, 4, 1, 3, 1, 2, 4, 2, 2, 4, 4, 2, 4, 4, 3, 3, 4, 3, 1, 4, 4, 1, 4, 4, 2, 4, 4, 4, 4, 4, 4, 2, 2, 3, 3, 4, 4, 4, 4, 3, 4, 2, 3, 4, 2, 4, 3, 2, 4, 2, 4, 4, 3, 1, 2, 1, 4, 4, 3, 4, 2, 4, 4, 3, 4, 4, 4, 3, 2, 4, 1, 4, 4, 2, 2, 4, 4, 2, 2, 3, 4, 1, 4, 2, 1, 4, 1, 2, 4, 2, 4, 2, 3, 3, 4, 4, 2, 4, 1, 4, 4, 2, 4, 2, 4, 4, 4, 4, 4, 3, 4, 4, 4, 2, 4, 4, 2, 4, 4, 2, 2, 4, 4, 4, 4, 2, 4, 4, 4, 1, 4, 2, 4, 4, 4, 1, 1, 4, 2, 4, 4, 2, 4, 3, 3, 2, 4, 4, 4, 4, 4, 4, 3, 3, 4, 2, 4, 4, 4, 4, 1, 4, 4, 1, 2, 4, 4, 4, 4, 4, 4, 4, 4, 4, 4, 4, 2, 4, 4, 3, 1, 1, 2, 4, 4, 2, 4, 2, 4, 2, 4, 4, 3, 2, 4, 4, 4, 1, 2, 4, 4, 4, 4, 4, 4, 4, 2, 4, 3, 4, 3, 2, 4, 2, 3, 4, 4, 4, 4, 4, 4, 3, 2, 1, 3, 4, 3, 4, 2, 4, 4, 4, 4, 4, 4, 4, 4, 4, 4, 4, 4, 4, 4, 4, 2, 4, 2, 4, 4, 4, 4, 4, 4, 4, 4, 4, 2, 4, 3, 4, 1, 4, 4, 4, 4, 4, 4, 2, 4, 4, 4, 4, 3, 4, 4, 4, 2, 2, 4, 4, 4, 4, 2, 3, 2, 4, 4, 4, 2, 3, 4, 4, 4, 4, 2, 3, 4, 4, 4, 4, 4, 4, 4, 4, 4, 2, 4, 3, 4, 4, 3, 4, 2, 4, 4, 4, 4, 2, 2, 3, 4, 2, 4, 4, 4, 4, 4, 3, 2, 2, 4, 3, 2, 3, 4, 3, 2, 1, 3, 4, 4, 4, 2, 4, 4, 4, 2, 3, 4, 2, 3, 1, 4, 3, 1, 3, 4, 2, 4, 4, 1, 4, 4, 4, 1, 2, 4, 4, 4, 4, 4, 3, 4, 2, 4, 4, 4, 4, 3, 2, 4, 4, 2, 4, 4, 4, 3, 4, 3, 4, 3, 2, 3, 4, 1, 4, 1, 3, 2, 4, 3, 4, 2, 4, 4, 4, 4, 4, 4, 4, 4, 4, 3, 4, 4, 4, 3, 4, 2, 3, 3, 1, 4, 4, 4, 4, 1, 2, 4, 4, 3, 4, 4, 4, 3, 4, 3, 2, 1, 4, 4, 1, 4, 4, 2, 4, 4, 4, 2, 4, 4, 4, 4, 2, 2, 4, 4, 4, 4, 4, 4, 4, 2, 4, 1, 4, 4, 4, 4, 4, 4, 4, 4, 4, 4, 4, 2, 4, 3, 3, 4, 2, 4, 2, 2, 4, 4, 3, 4, 3, 4, 2, 3, 3, 3, 3, 4, 3, 4, 4, 4, 3, 2, 4, 2, 4, 4, 4, 4, 4, 4, 4, 2, 4, 4, 4, 2, 4, 4, 2, 1, 4, 4, 4, 4, 4, 4, 2, 4, 4, 4, 4, 4, 4, 4, 4, 4, 1, 4, 1, 3, 4, 4, 4, 3, 4, 4, 3, 4, 4, 4, 4, 3, 4, 2, 4, 4, 4, 1, 1, 3, 2, 4, 4, 4, 3, 4, 4, 2, 4, 4, 4, 4, 3, 1, 3, 4, 4, 4, 4, 1, 2, 4, 2, 1, 4, 4, 4, 3, 4, 2, 3, 4, 4, 4, 3, 1, 1, 4, 2, 4, 3, 4, 4, 1, 4, 3, 1, 4, 2, 4, 4, 4, 4, 4, 4, 3, 3, 4, 4, 4, 4, 1, 4, 4, 4, 4, 2, 3, 4, 2, 2, 3, 2, 4, 4, 1, 4, 4, 4, 4, 1, 4, 2, 3, 1, 4, 3, 4, 2, 4, 3, 4, 2, 4, 4, 1, 4, 4, 2, 4, 1, 3, 4, 4, 4, 4, 2, 4, 4, 4, 4, 2, 4, 3, 4, 4, 4, 4, 4, 4, 4, 4, 4, 2, 4, 3, 4, 4, 4, 4, 3, 3, 2, 2, 4, 2, 3, 4, 3, 3, 4, 1, 2, 4, 3, 2, 4, 2, 3, 4, 4, 3, 4, 3, 4, 4, 4, 4, 4, 3, 4, 4, 2, 4, 4, 2, 4, 1, 4, 3, 4, 3, 4, 4, 4, 4, 4, 1, 4, 4, 4, 4, 4, 4, 4, 3, 4, 2, 4, 3, 4, 4, 4, 4, 3, 1, 4, 4, 4, 4, 4, 4, 3, 1, 4, 4, 4, 4, 4, 4, 4, 4, 4, 4, 4, 4, 4, 4, 4, 4, 2, 4, 3, 2, 4, 4, 1, 4, 4, 2, 4, 4, 4, 3, 4, 4, 2, 4, 4, 4, 2, 4, 2, 4, 1, 2, 4, 2, 1, 4, 2, 4, 4, 4, 4, 4, 4, 4, 4, 3, 3, 3, 4, 4, 3, 4, 4, 4, 3, 4, 4, 4, 4, 4, 3, 4, 3, 1, 2, 2, 3, 4, 1, 4, 3, 4, 4, 4, 4, 4, 4, 4, 4, 2, 4, 4, 4, 4, 4, 4, 1, 4, 4, 3, 1, 2, 2, 4, 4, 2, 4, 2, 3, 4, 4, 2, 4, 3, 4, 4, 1, 4, 4, 4, 4, 4, 4, 4, 1, 3, 4, 4, 4, 2, 4, 4, 4, 4, 3, 4, 2, 4, 2, 4, 4, 4, 1, 3, 4, 4, 4, 4, 4, 4, 2, 3, 4, 4, 4, 4, 4, 4, 4, 4, 4, 4, 2, 4, 4, 1, 4, 4, 4, 4, 4, 3, 3, 2, 2, 4, 4, 3, 4, 4, 3, 4, 4, 2, 2, 2, 4, 4, 4, 4, 3, 2, 2, 4, 1, 4, 4, 2, 3, 4, 4, 2, 4, 2, 4, 4, 4, 2, 1, 2, 4, 4, 2, 4, 2, 4, 4, 4, 4, 2, 4, 4, 4, 4, 4, 4, 1, 4, 4, 1, 3, 1, 4, 4, 4, 2, 3, 4, 2, 2, 1, 4, 4, 4, 4, 4, 4, 1, 1, 4, 4, 4, 4, 4, 2, 4, 3, 2, 4, 4, 4, 1, 4, 4, 1, 2, 4, 4, 3, 1, 4, 4, 2, 3, 4, 4, 4, 1, 4, 1, 4, 2, 2, 4, 2, 4, 4, 4, 2, 1, 4, 4, 4, 4, 2, 2, 2, 4, 4, 2, 4, 4, 4, 4, 3, 4, 4, 4, 3, 4, 2, 4, 3, 4, 2, 2, 2, 2, 4, 1, 3, 4, 4, 3, 4, 2, 2, 4, 2, 4, 3, 4, 1, 1, 4, 3, 1, 2, 2, 4, 3, 2, 4, 4, 4, 1, 4, 1, 4, 3, 2, 2, 4, 4, 4, 4, 2, 4, 4, 1, 2, 4, 2, 4, 4, 4, 4, 4, 4, 4, 2, 3, 4, 4, 4, 3, 4, 2, 4, 4, 4, 4, 4, 4, 4, 4, 4, 4, 4, 2, 1, 4, 4, 4, 4, 4, 4, 4, 1, 2, 2, 4, 4, 2, 2, 4, 4, 4, 4, 1, 4, 4, 3, 2, 4, 2, 4, 4, 2, 4, 4, 4, 2, 4, 2, 2, 4, 4, 3, 2, 4, 4, 3, 4, 4, 4, 4, 4, 4, 4, 4, 2, 1, 4, 4, 4, 4, 4, 2, 4, 2, 4, 4, 4, 1, 4, 2, 4, 4, 4, 3, 4, 4, 4, 4, 4, 2, 3, 1, 4, 4, 4, 4, 1, 4, 4, 4, 1, 3, 3, 4, 2, 2, 2, 4, 4, 2, 2, 4, 2, 2, 4, 4, 2, 1, 2, 1, 3, 3, 4, 4, 4, 2, 4, 4, 4, 4, 2, 4, 1, 4, 4, 4, 4, 4, 4, 1, 1, 4, 4, 4, 2, 4, 4, 4, 3, 4, 4, 4, 3, 4, 2, 3, 4, 4, 1, 4, 4, 4, 4, 2, 4, 4, 4, 1, 3, 4, 2, 4, 4, 4, 4, 4, 4, 2, 3, 4, 2, 4, 4, 1, 3, 4, 4, 3, 1, 4, 4, 4, 4, 1, 3, 4, 4, 4, 3, 4, 4, 4, 2, 1, 2, 1, 2, 4, 4, 4, 4, 3, 4, 4, 2, 4, 3, 4, 2, 2, 4, 2, 4, 4, 4, 3, 4, 4, 4, 2, 1, 4, 4, 4, 2, 4, 4, 4, 1, 4, 3, 4, 3, 3, 4, 2, 3, 3, 4, 4, 4, 1, 2, 4, 2, 1, 4, 4, 4, 2, 4, 4, 4, 1, 4, 4, 4, 4, 4, 4, 4, 4, 4, 4, 2, 4, 4, 4, 4, 4, 2, 4, 4, 2, 4, 4, 4, 3, 3, 4, 3, 1, 4, 4, 1, 4, 3, 1, 4, 2, 4, 4]\n",
            "[4, 2, 3, 2, 4, 4, 4, 4, 4, 4, 2, 4, 3, 3, 1, 2, 1, 4, 2, 3, 2, 4, 3, 4, 4, 3, 2, 3, 2, 2, 4, 2, 4, 3, 4, 3, 4, 2, 3, 3, 3, 4, 4, 4, 2, 4, 4, 2, 4, 2, 4, 4, 2, 2, 2, 4, 4, 3, 4, 4, 4, 3, 4, 2, 2, 3, 2, 4, 3, 2, 4, 3, 3, 4, 3, 4, 4, 4, 2, 4, 2, 2, 1, 3, 4, 4, 2, 3, 2, 4, 4, 4, 4, 3, 4, 4, 4, 1, 4, 2, 3, 3, 4, 2, 2, 4, 1, 2, 3, 1, 4, 3, 4, 2, 2, 4, 2, 3, 3, 3, 2, 3, 3, 4, 2, 4, 3, 4, 2, 4, 2, 4, 4, 2, 2, 3, 2, 4, 3, 4, 4, 2, 1, 3, 3, 4, 3, 2, 2, 4, 4, 2, 4, 4, 3, 4, 3, 2, 3, 4, 2, 3, 3, 1, 3, 4, 3, 4, 2, 2, 3, 4, 4, 4, 4, 3, 4, 3, 4, 3, 3, 2, 4, 4, 4, 3, 4, 2, 2, 4, 4, 4, 4, 2, 2, 3, 1, 4, 4, 4, 3, 4, 3, 3, 4, 2, 4, 1, 3, 4, 4, 4, 4, 2, 3, 2, 2, 2, 3, 4, 4, 2, 2, 2, 4, 2, 2, 4, 4, 3, 4, 4, 3, 3, 2, 3, 4, 2, 3, 3, 4, 4, 3, 4, 2, 4, 4, 2, 4, 2, 2, 2, 2, 4, 4, 3, 4, 4, 4, 3, 4, 4, 3, 3, 4, 3, 3, 4, 3, 3, 4, 3, 3, 4, 1, 4, 2, 4, 4, 4, 4, 4, 2, 4, 4, 3, 2, 2, 4, 2, 3, 2, 2, 2, 4, 3, 3, 4, 4, 3, 2, 3, 3, 4, 4, 2, 2, 2, 2, 2, 3, 2, 2, 2, 2, 4, 4, 4, 4, 4, 4, 4, 4, 4, 4, 1, 2, 4, 4, 4, 4, 4, 2, 3, 4, 4, 3, 3, 4, 3, 3, 2, 4, 3, 2, 4, 3, 4, 4, 4, 4, 3, 3, 4, 4, 4, 4, 2, 2, 2, 4, 2, 4, 2, 2, 1, 2, 3, 3, 2, 4, 2, 4, 4, 2, 2, 4, 4, 4, 2, 4, 2, 2, 4, 4, 3, 2, 3, 4, 4, 3, 2, 2, 4, 2, 4, 3, 4, 2, 4, 4, 4, 3, 2, 4, 2, 2, 4, 1, 4, 4, 3, 4, 4, 4, 2, 3, 4, 4, 3, 2, 4, 4, 2, 2, 2, 4, 1, 4, 4, 1, 4, 4, 2, 2, 4, 2, 4, 3, 4, 4, 3, 2, 2, 3, 4, 3, 4, 4, 2, 4, 2, 2, 2, 4, 3, 4, 2, 3, 2, 4, 4, 4, 3, 4, 2, 4, 2, 4, 3, 4, 2, 4, 2, 4, 3, 2, 2, 3, 4, 3, 4, 1, 4, 2, 4, 4, 1, 4, 4, 4, 3, 4, 4, 4, 4, 4, 4, 2, 3, 2, 4, 4, 4, 4, 4, 2, 2, 3, 2, 2, 4, 4, 2, 2, 4, 4, 3, 4, 4, 4, 3, 4, 2, 4, 4, 3, 4, 2, 1, 4, 4, 4, 4, 3, 2, 4, 2, 2, 3, 4, 2, 4, 2, 2, 3, 4, 4, 4, 3, 3, 4, 4, 3, 2, 3, 3, 4, 4, 2, 2, 2, 4, 2, 3, 2, 4, 4, 4, 4, 4, 4, 3, 3, 3, 4, 3, 4, 4, 4, 3, 3, 4, 2, 4, 2, 4, 4, 4, 4, 2, 3, 3, 3, 2, 2, 4, 4, 2, 4, 4, 4, 2, 2, 3, 2, 3, 3, 4, 4, 4, 2, 3, 3, 4, 4, 4, 4, 4, 2, 3, 3, 2, 4, 4, 2, 4, 2, 4, 4, 4, 4, 4, 4, 3, 1, 3, 2, 2, 4, 4, 4, 4, 3, 3, 4, 4, 2, 4, 4, 3, 4, 3, 3, 1, 3, 4, 3, 2, 4, 2, 4, 2, 4, 4, 3, 4, 4, 4, 4, 3, 2, 2, 4, 4, 4, 2, 2, 3, 4, 3, 2, 2, 2, 4, 2, 4, 4, 3, 4, 1, 2, 3, 3, 4, 3, 4, 3, 3, 2, 4, 4, 3, 2, 4, 3, 2, 2, 4, 4, 4, 4, 4, 4, 4, 4, 4, 1, 3, 2, 4, 2, 2, 2, 2, 3, 2, 2, 2, 4, 4, 3, 4, 4, 4, 2, 3, 4, 4, 4, 4, 4, 3, 4, 4, 4, 4, 4, 2, 2, 4, 3, 4, 4, 2, 4, 2, 3, 4, 4, 2, 3, 2, 2, 4, 2, 4, 3, 4, 4, 2, 4, 2, 4, 2, 3, 4, 4, 4, 4, 4, 2, 2, 4, 4, 4, 3, 2, 4, 4, 4, 4, 4, 3, 4, 4, 4, 2, 2, 4, 3, 4, 1, 3, 1, 4, 3, 4, 4, 2, 4, 4, 3, 3, 3, 3, 3, 4, 3, 4, 4, 4, 3, 4, 2, 4, 4, 4, 2, 4, 2, 4, 4, 3, 4, 4, 4, 3, 3, 3, 3, 4, 4, 4, 2, 2, 4, 4, 4, 3, 4, 3, 4, 2, 2, 4, 4, 4, 4, 3, 4, 2, 3, 4, 2, 4, 4, 3, 4, 4, 4, 2, 2, 4, 3, 3, 4, 2, 4, 2, 4, 3, 4, 4, 2, 3, 2, 2, 4, 4, 4, 4, 4, 4, 2, 3, 2, 4, 4, 4, 2, 2, 3, 4, 4, 4, 2, 4, 4, 4, 2, 1, 2, 1, 3, 4, 3, 4, 2, 3, 2, 4, 2, 3, 2, 3, 4, 4, 2, 3, 4, 4, 4, 2, 2, 3, 4, 2, 3, 2, 2, 4, 2, 4, 4, 3, 4, 4, 4, 2, 4, 4, 3, 4, 4, 3, 3, 4, 4, 4, 3, 2, 3, 2, 4, 2, 4, 4, 4, 4, 2, 4, 4, 3, 2, 4, 4, 2, 4, 4, 3, 2, 2, 4, 4, 1, 2, 4, 2, 4, 2, 3, 4, 4, 4, 4, 4, 4, 4, 4, 4, 3, 4, 2, 4, 2, 4, 4, 4, 1, 4, 3, 4, 4, 4, 2, 3, 3, 4, 4, 4, 4, 4, 4, 4, 4, 3, 1, 2, 4, 2, 3, 4, 2, 3, 4, 3, 4, 4, 4, 4, 4, 4, 4, 3, 2, 3, 2, 4, 3, 2, 4, 4, 4, 2, 2, 2, 1, 4, 2, 4, 4, 4, 4, 4, 3, 4, 3, 4, 2, 4, 3, 1, 3, 3, 3, 2, 4, 2, 4, 1, 2, 4, 3, 4, 4, 2, 4, 4, 3, 2, 4, 3, 2, 3, 4, 2, 4, 2, 4, 4, 2, 4, 4, 4, 2, 4, 3, 4, 4, 4, 2, 2, 3, 4, 4, 4, 4, 3, 3, 2, 4, 4, 3, 3, 2, 4, 4, 3, 4, 4, 4, 4, 3, 4, 3, 4, 2, 4, 3, 2, 4, 4, 4, 4, 3, 2, 4, 4, 3, 3, 4, 4, 2, 2, 2, 4, 3, 3, 4, 4, 4, 4, 4, 4, 1, 4, 4, 4, 4, 4, 2, 4, 3, 2, 4, 3, 3, 4, 2, 2, 4, 2, 4, 4, 4, 3, 4, 2, 4, 2, 2, 4, 2, 2, 2, 4, 2, 3, 2, 4, 4, 4, 2, 3, 4, 3, 4, 2, 4, 4, 4, 3, 4, 4, 3, 2, 2, 2, 2, 3, 4, 4, 4, 4, 4, 3, 4, 4, 4, 2, 4, 3, 4, 4, 4, 4, 3, 4, 4, 4, 4, 4, 4, 2, 2, 1, 3, 3, 3, 4, 4, 3, 3, 2, 4, 3, 4, 2, 4, 4, 3, 2, 2, 3, 4, 3, 4, 4, 1, 2, 3, 2, 4, 4, 2, 4, 4, 4, 4, 4, 4, 4, 4, 4, 4, 4, 4, 4, 2, 4, 4, 4, 1, 4, 3, 4, 4, 3, 3, 2, 4, 4, 2, 4, 3, 4, 3, 2, 2, 4, 4, 4, 3, 4, 3, 4, 4, 2, 2, 2, 4, 2, 2, 4, 4, 4, 2, 4, 4, 4, 2, 4, 4, 2, 4, 3, 1, 4, 4, 4, 2, 3, 4, 4, 1, 3, 2, 1, 4, 4, 4, 4, 4, 3, 4, 2, 2, 4, 3, 2, 2, 2, 2, 2, 4, 2, 4, 2, 1, 4, 2, 2, 3, 4, 2, 3, 4, 2, 2, 4, 2, 3, 3, 2, 2, 3, 4, 4, 3, 4, 2, 4, 4, 2, 2, 4, 3, 4, 4, 4, 2, 2, 3, 4, 4, 4, 4, 4, 2, 4, 4, 4, 2, 3, 2, 4, 4, 3, 4, 4, 4, 4, 4, 3, 3, 2, 3, 4, 3, 2, 1, 2, 4, 2, 3, 2, 4, 4, 3, 3, 3, 4, 4, 4, 2, 3, 4, 2, 2, 4, 4, 3, 4, 4, 2, 2, 4, 4, 4, 4, 2, 4, 1, 4, 2, 4, 4, 3, 4, 2, 3, 4, 3, 4, 4, 2, 4, 2, 3, 4, 4, 2, 4, 2, 3, 3, 4, 2, 4, 3, 3, 2, 4, 2, 4, 4, 2, 3, 4, 4, 2, 4, 2, 2, 2, 4, 2, 3, 4, 4, 3, 4, 2, 2, 3, 2, 4, 4, 4, 2, 4, 1, 4, 2, 1, 4, 2, 2, 4, 4, 4, 4, 2, 4, 2, 4, 3, 4, 2, 2, 1, 2, 2, 3, 4, 2, 3, 4, 2, 4, 4, 4, 2, 4, 2, 3, 3, 4, 4, 3, 4, 3, 4, 4, 2, 4, 2, 2, 1, 3, 3, 3, 4, 4, 4, 3, 3, 4, 2, 4, 3, 2, 4, 2, 4, 3, 2, 2, 4, 4, 2, 4, 4, 3, 2, 1, 4, 4, 4, 2, 4, 4, 2, 2, 2, 4, 4, 4, 2, 1, 2, 4, 3, 4, 4, 3, 4, 4, 4, 4, 1, 1, 3, 4, 4, 3, 3, 2, 4, 4, 3, 3, 3, 2, 1, 4, 2, 2, 4, 3, 3, 4, 4, 4, 2, 2, 2, 3, 4, 2, 2, 2, 4, 4, 3, 4, 4, 4, 3, 2, 4, 4, 3, 3, 3, 4, 4, 2, 4, 1, 4, 3, 4, 4, 4, 4, 3, 4, 4, 3, 2, 2, 4, 2, 3, 4, 4, 4, 4, 4, 2, 4, 4, 4, 4, 2, 4, 4, 4, 4, 3, 3, 4, 4, 4, 2, 4, 4, 4, 4, 4, 4, 3, 1, 2, 3, 4, 2, 4, 4, 4, 4, 4, 2, 4, 4, 4, 4, 2, 4, 3, 4, 4, 2, 4, 2, 2, 4, 4, 4, 4, 2, 3, 4, 4, 4, 4, 3, 4, 4, 2, 2, 4, 4, 2, 4, 2, 4, 3, 4, 2, 2, 4, 4, 3, 2, 4, 4, 4, 2, 2, 4, 2, 3, 4, 4, 2, 2, 4, 4, 4, 4, 4, 1, 4, 4, 4, 2, 3, 2, 2, 1, 2, 3, 2, 4, 4, 4, 4, 4, 4, 2, 2, 4, 4, 4, 4, 4, 4, 4, 4, 2, 4, 4, 3, 4, 4, 2, 4, 2, 2, 2, 2, 4, 4, 3, 3, 4, 4, 3, 4, 4, 4, 3, 2, 3, 4, 3, 2, 4, 4, 4, 2, 1, 2, 4, 4, 4, 4, 2, 2, 4, 3, 3, 3, 4, 3, 2, 4, 4, 2, 2, 3, 4, 2, 4, 3, 3, 4, 2, 4, 3, 4, 4, 2, 4, 2, 2, 4, 4, 2, 3, 2, 4, 4, 2, 4, 1, 4, 4, 4, 4, 4, 2, 4, 4, 4, 3, 3, 4, 4, 4, 4, 4, 2, 4, 2, 1, 4, 4, 4, 4, 2, 2, 3, 4, 2, 2, 4, 4, 3, 4, 4, 4, 3, 3, 4, 2, 3, 3, 4, 4, 4, 4, 2, 2, 4, 3, 2, 4, 4, 4, 2, 2, 4, 4, 4, 4, 4, 2, 2, 2, 3, 4, 4, 3, 4, 4, 1, 4, 2, 3, 2, 2, 4, 4, 4, 3, 2, 3, 4, 4, 3, 4, 2, 2, 4, 2, 4, 4, 2, 2, 4, 2, 2, 2, 4, 4, 2, 4, 4, 4, 4, 4, 4, 4, 2, 2, 4, 2, 4, 4, 4, 2, 4, 4, 1, 4, 4, 4, 4, 4, 4, 2, 2, 4, 4, 3, 3, 2, 2, 2, 2, 2, 3, 4, 4, 2, 1, 4, 4, 4, 2, 4, 3, 2, 4, 3, 4, 4, 2, 4, 4, 4, 4, 2, 3, 4, 2, 4, 2, 3, 3, 3, 2, 2, 4, 4, 4, 4, 3, 2, 3, 4, 2, 3, 4, 2, 2, 2, 3, 4, 2, 4, 4, 4, 3, 4, 4, 2, 4, 4, 2, 4, 2, 4, 4, 4, 3, 3, 2, 4, 4, 4, 4, 4, 2, 2, 4, 3, 4, 4, 4, 4, 4, 2, 4, 3, 4, 4, 4, 4, 3, 3, 4, 2, 4, 3, 3, 2, 3, 2, 3, 3, 3, 2, 2, 4, 3, 4, 4, 2, 4, 4, 4, 2, 4, 3, 4, 4, 4, 1, 4, 2, 2, 2, 2, 4, 4, 4, 4, 2, 3, 4, 3, 3, 4, 2, 4, 4, 4, 3, 4, 2, 2, 4, 4, 4, 3, 4, 4, 2, 3, 4, 2, 2, 4, 4, 2, 2, 2, 3, 4, 4, 4, 3, 3, 3, 3, 1, 4, 4, 4, 4, 4, 4, 4, 4, 2, 4, 4, 4, 4, 4, 3, 2, 2, 4, 3, 4, 1, 4, 4, 4, 4, 2, 4, 4, 4, 4, 2, 4, 4, 4, 2, 4, 4, 4, 2, 2, 4, 1, 2, 4, 4, 3, 4, 2, 4, 3, 4, 4, 4, 3, 2, 2, 4, 4, 2, 1, 4, 4, 3, 2, 4, 4, 4, 4, 3, 4, 2, 2, 3, 2, 3, 4, 1, 4, 3, 3, 4, 3, 4, 4, 4, 4, 2, 3, 3, 4, 4, 3, 3, 4, 3, 2, 4, 2, 1, 2, 3, 4, 4, 3, 4, 3, 4, 3, 4, 3, 4, 4, 4, 4, 1, 3, 2, 4, 3, 2, 4, 4, 1, 4, 3, 3, 3, 2, 4, 4, 4, 4, 3, 4, 4, 4, 2, 4, 4, 3, 4, 2, 4, 3, 4, 2, 3, 2, 2, 3, 3, 4, 2, 4, 3, 4, 3, 4, 3, 4, 4, 3, 4, 2, 4, 4, 3, 4, 4, 4, 2, 2, 4, 4, 3, 2, 2, 4, 3, 4, 4, 3, 2, 2, 1, 4, 4, 4, 2, 4, 2, 4, 3, 3, 4, 4, 3, 4, 4, 3, 3, 2, 4, 4, 4, 2, 1, 2, 4, 4, 2, 4, 3, 3, 4, 4, 4, 4, 4, 4, 4, 4, 4, 4, 2, 4, 4, 1, 2, 2, 4, 4, 4, 4, 2, 4, 3, 3, 2, 4, 3, 4, 3, 4, 3, 3, 2, 4, 4, 4, 4, 4, 3, 2, 3, 4, 2, 2, 2, 2, 3, 2, 4, 4, 4, 2, 3, 4, 4, 4, 4, 4, 3, 4, 2, 2, 4, 4, 4, 2, 3, 4, 2, 4, 4, 3, 3, 2, 4, 3, 4, 1, 2, 3, 4, 4, 4, 2, 4, 4, 3, 4, 3, 4, 4, 3, 4, 4, 3, 4, 4, 4, 3, 3, 4, 4, 4, 2, 2, 4, 2, 2, 4, 4, 4, 4, 2, 3, 2, 4, 2, 3, 1, 3, 2, 2, 3, 4, 2, 1, 4, 4, 4, 2, 2, 2, 3, 3, 2, 3, 3, 4, 4, 3, 2, 3, 4, 1, 2, 4, 1, 4, 3, 4, 4, 4, 3, 4, 1, 4, 3, 4, 4, 2, 4, 2, 2, 4, 4, 4, 4, 1, 4, 2, 2, 4, 4, 1, 2, 4, 4, 3, 4, 1, 2, 4, 4, 3, 2, 4, 4, 2, 4, 3, 3, 4, 4, 4, 4, 4, 2, 3, 2, 2, 4, 4, 4, 4, 4, 4, 4, 4, 2, 2, 4, 4, 3, 2, 2, 4, 3, 1, 4, 3, 4, 4, 3, 4, 4, 3, 1, 2, 4, 4, 4, 4, 3, 4, 2, 2, 4, 2, 2, 4, 4, 4, 2, 3, 3, 4, 2, 4, 4, 4, 3, 3, 1, 3, 4, 4, 1, 3, 4, 4, 4, 2, 4, 4, 4, 2, 2, 4, 2, 4, 3, 3, 4, 4, 2, 4, 3, 3, 1, 4, 2, 4, 3, 4, 4, 4, 3, 4, 4, 4, 4, 4, 3, 2, 4, 4, 2, 2, 3, 4, 2, 2, 4, 4, 4, 2, 3, 4, 3, 3, 4, 4, 4, 3, 4, 3, 4, 2, 4, 1, 4, 3, 4, 4, 2, 3, 4, 4, 2, 2, 4, 4, 4, 4, 4, 3, 4, 4, 1, 2, 4, 2, 4, 4, 2, 2, 2, 4, 2, 2, 4, 4, 3, 4, 2, 4, 2, 4, 4, 3, 2, 4, 1, 2, 2, 3, 2, 2, 4, 4, 4, 4, 3, 4, 4, 3, 3, 4, 3, 4, 4, 4, 4, 4, 4, 4, 3, 4, 3, 4, 2, 2, 2, 2, 4, 2, 4, 4, 4, 2, 3, 4, 3, 3, 3, 4, 3, 1, 4, 2, 4, 4, 2, 3, 4, 2, 3, 4, 3, 4, 2, 4, 4, 4, 2, 4, 4, 4, 3, 4, 4, 4, 3, 4, 4, 2, 4, 4, 4, 4, 3, 3, 2, 4, 2, 3, 4, 4, 3, 2, 1, 4, 4, 4, 4, 2, 3, 4, 2, 2, 3, 4, 4]\n"
          ]
        }
      ]
    },
    {
      "cell_type": "code",
      "source": [
        "#ACCURACY\n",
        "accuracy = accuracy_score(y_test, predicted)\n",
        "accuracy\n",
        "preds = accuracy_score(y_test, predicted, normalize=False)\n",
        "print(accuracy)\n",
        "print(preds)\n",
        "predicted.shape"
      ],
      "metadata": {
        "colab": {
          "base_uri": "https://localhost:8080/"
        },
        "id": "NR3OlEon2fQC",
        "outputId": "2542475d-7fa4-46c7-9f85-bf78ad8c0dde"
      },
      "execution_count": 218,
      "outputs": [
        {
          "output_type": "stream",
          "name": "stdout",
          "text": [
            "0.5662482566248257\n",
            "1624\n"
          ]
        },
        {
          "output_type": "execute_result",
          "data": {
            "text/plain": [
              "(2868,)"
            ]
          },
          "metadata": {},
          "execution_count": 218
        }
      ]
    },
    {
      "cell_type": "code",
      "source": [
        "#F1score\n",
        "f1_score(y_test, predicted, average=\"weighted\")"
      ],
      "metadata": {
        "colab": {
          "base_uri": "https://localhost:8080/"
        },
        "id": "Q-QzxQPQ7jfP",
        "outputId": "40edc5c6-12b4-4773-c5e4-d902b3c14e40"
      },
      "execution_count": 214,
      "outputs": [
        {
          "output_type": "execute_result",
          "data": {
            "text/plain": [
              "0.5853595411664059"
            ]
          },
          "metadata": {},
          "execution_count": 214
        }
      ]
    }
  ]
}
